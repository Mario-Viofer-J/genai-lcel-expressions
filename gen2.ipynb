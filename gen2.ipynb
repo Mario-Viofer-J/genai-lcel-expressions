{
 "cells": [
  {
   "cell_type": "code",
   "execution_count": 1,
   "id": "29a300c8",
   "metadata": {
    "height": 114
   },
   "outputs": [],
   "source": [
    "import os\n",
    "import openai\n",
    "\n",
    "from dotenv import load_dotenv, find_dotenv\n",
    "_ = load_dotenv(find_dotenv()) # read local .env file\n",
    "openai.api_key = os.environ['OPENAI_API_KEY']"
   ]
  },
  {
   "cell_type": "code",
   "execution_count": 2,
   "id": "7d04bbc8",
   "metadata": {
    "height": 63
   },
   "outputs": [],
   "source": [
    "from langchain.prompts import ChatPromptTemplate\n",
    "from langchain.chat_models import ChatOpenAI\n",
    "from langchain.schema.output_parser import StrOutputParser"
   ]
  },
  {
   "cell_type": "code",
   "execution_count": 9,
   "id": "03aaf776",
   "metadata": {
    "height": 113
   },
   "outputs": [],
   "source": [
    "prompt = ChatPromptTemplate.from_template(\n",
    "    \"tell me a short story about {topic} with {number} of words in the story\"\n",
    ")\n",
    "model = ChatOpenAI()\n",
    "output_parser = StrOutputParser()"
   ]
  },
  {
   "cell_type": "code",
   "execution_count": 10,
   "id": "b2461c56",
   "metadata": {
    "height": 29
   },
   "outputs": [],
   "source": [
    "chain = prompt | model | output_parser"
   ]
  },
  {
   "cell_type": "code",
   "execution_count": 11,
   "id": "cb4f72bc",
   "metadata": {
    "height": 29
   },
   "outputs": [
    {
     "data": {
      "text/plain": [
       "'The pride of lions roamed the vast savanna, their golden coats shining in the sunlight. Led by a majestic male with a mane like a fiery crown, they moved with grace and power. The lionesses hunted with precision, bringing down prey with a deadly efficiency. The cubs played and frolicked, learning the ways of their fierce ancestors. But danger lurked in the shadows, a rival pride seeking to challenge their dominance. The two prides clashed in a savage battle, teeth and claws flashing in the moonlight. In the end, the original pride emerged victorious, their roars echoing triumphantly across the land.'"
      ]
     },
     "execution_count": 11,
     "metadata": {},
     "output_type": "execute_result"
    }
   ],
   "source": [
    "chain.invoke({\"topic\": \"lions\",\"number\":\"90\"})"
   ]
  },
  {
   "cell_type": "code",
   "execution_count": 12,
   "id": "75d208c1",
   "metadata": {
    "height": 46
   },
   "outputs": [],
   "source": [
    "from langchain.embeddings import OpenAIEmbeddings\n",
    "from langchain.vectorstores import DocArrayInMemorySearch"
   ]
  },
  {
   "cell_type": "code",
   "execution_count": 14,
   "id": "f6f7d741",
   "metadata": {
    "height": 113
   },
   "outputs": [],
   "source": [
    "vectorstore = DocArrayInMemorySearch.from_texts(\n",
    "    [\"issac newton invented gravity\", \"thomas edison invented light and electricity\"],\n",
    "    embedding=OpenAIEmbeddings()\n",
    ")\n",
    "retriever = vectorstore.as_retriever()"
   ]
  },
  {
   "cell_type": "code",
   "execution_count": null,
   "id": "4fd966f1",
   "metadata": {
    "height": 29
   },
   "outputs": [],
   "source": []
  },
  {
   "cell_type": "code",
   "execution_count": 15,
   "id": "8a20afd7",
   "metadata": {
    "height": 29
   },
   "outputs": [
    {
     "data": {
      "text/plain": [
       "[Document(page_content='thomas edison invented light and electricity'),\n",
       " Document(page_content='issac newton invented gravity')]"
      ]
     },
     "execution_count": 15,
     "metadata": {},
     "output_type": "execute_result"
    }
   ],
   "source": [
    "retriever.get_relevant_documents(\"what did thomas edison invented?\")"
   ]
  },
  {
   "cell_type": "code",
   "execution_count": 16,
   "id": "b8410f84",
   "metadata": {
    "height": 29
   },
   "outputs": [
    {
     "data": {
      "text/plain": [
       "[Document(page_content='issac newton invented gravity'),\n",
       " Document(page_content='thomas edison invented light and electricity')]"
      ]
     },
     "execution_count": 16,
     "metadata": {},
     "output_type": "execute_result"
    }
   ],
   "source": [
    "retriever.get_relevant_documents(\"what did issac newton invented?\")"
   ]
  },
  {
   "cell_type": "code",
   "execution_count": 17,
   "id": "0be72866",
   "metadata": {
    "height": 130
   },
   "outputs": [],
   "source": [
    "template = \"\"\"Answer the question based only on the following context:\n",
    "{context}\n",
    "\n",
    "Question: {question}\n",
    "\"\"\"\n",
    "prompt = ChatPromptTemplate.from_template(template)"
   ]
  },
  {
   "cell_type": "code",
   "execution_count": 18,
   "id": "87886954",
   "metadata": {
    "height": 46
   },
   "outputs": [],
   "source": [
    "from langchain.schema.runnable import RunnableMap\n"
   ]
  },
  {
   "cell_type": "code",
   "execution_count": 19,
   "id": "01c2f9c9",
   "metadata": {
    "height": 96
   },
   "outputs": [],
   "source": [
    "chain = RunnableMap({\n",
    "    \"context\": lambda x: retriever.get_relevant_documents(x[\"question\"]),\n",
    "    \"question\": lambda x: x[\"question\"]\n",
    "}) | prompt | model | output_parser"
   ]
  },
  {
   "cell_type": "code",
   "execution_count": 20,
   "id": "c4e3fc00",
   "metadata": {
    "height": 46
   },
   "outputs": [
    {
     "data": {
      "text/plain": [
       "'Thomas Edison'"
      ]
     },
     "execution_count": 20,
     "metadata": {},
     "output_type": "execute_result"
    }
   ],
   "source": [
    "chain.invoke({\"question\": \"who is the invented light?\"})\n"
   ]
  },
  {
   "cell_type": "code",
   "execution_count": 21,
   "id": "a3d5d97a",
   "metadata": {
    "height": 96
   },
   "outputs": [],
   "source": [
    "inputs = RunnableMap({\n",
    "    \"context\": lambda x: retriever.get_relevant_documents(x[\"question\"]),\n",
    "    \"question\": lambda x: x[\"question\"]\n",
    "})"
   ]
  },
  {
   "cell_type": "code",
   "execution_count": 22,
   "id": "06d9630d",
   "metadata": {
    "height": 46
   },
   "outputs": [
    {
     "data": {
      "text/plain": [
       "{'context': [Document(page_content='issac newton invented gravity'),\n",
       "  Document(page_content='thomas edison invented light and electricity')],\n",
       " 'question': 'who is issac newton?'}"
      ]
     },
     "execution_count": 22,
     "metadata": {},
     "output_type": "execute_result"
    }
   ],
   "source": [
    "inputs.invoke({\"question\": \"who is issac newton?\"})\n"
   ]
  }
 ],
 "metadata": {
  "kernelspec": {
   "display_name": "Python 3 (ipykernel)",
   "language": "python",
   "name": "python3"
  },
  "language_info": {
   "codemirror_mode": {
    "name": "ipython",
    "version": 3
   },
   "file_extension": ".py",
   "mimetype": "text/x-python",
   "name": "python",
   "nbconvert_exporter": "python",
   "pygments_lexer": "ipython3",
   "version": "3.9.19"
  }
 },
 "nbformat": 4,
 "nbformat_minor": 5
}
